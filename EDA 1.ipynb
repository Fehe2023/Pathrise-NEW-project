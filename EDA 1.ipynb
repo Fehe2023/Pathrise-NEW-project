{
  "nbformat": 4,
  "nbformat_minor": 0,
  "metadata": {
    "colab": {
      "provenance": [],
      "authorship_tag": "ABX9TyOLzh8M7SdcQxOydgQhhJuH",
      "include_colab_link": true
    },
    "kernelspec": {
      "name": "python3",
      "display_name": "Python 3"
    },
    "language_info": {
      "name": "python"
    }
  },
  "cells": [
    {
      "cell_type": "markdown",
      "metadata": {
        "id": "view-in-github",
        "colab_type": "text"
      },
      "source": [
        "<a href=\"https://colab.research.google.com/github/Fehe2023/Pathrise-NEW-project/blob/main/EDA%201.ipynb\" target=\"_parent\"><img src=\"https://colab.research.google.com/assets/colab-badge.svg\" alt=\"Open In Colab\"/></a>"
      ]
    },
    {
      "cell_type": "code",
      "execution_count": null,
      "metadata": {
        "id": "FUL9SFWlbUKd"
      },
      "outputs": [],
      "source": [
        "import pandas as pd"
      ]
    },
    {
      "cell_type": "code",
      "source": [
        "from google.colab import files\n",
        "uploaded= files.upload()\n"
      ],
      "metadata": {
        "colab": {
          "base_uri": "https://localhost:8080/",
          "height": 73
        },
        "id": "VlJuJum0bVAf",
        "outputId": "7ee77d29-babf-4ded-d189-6cc0111af8ee"
      },
      "execution_count": null,
      "outputs": [
        {
          "output_type": "display_data",
          "data": {
            "text/plain": [
              "<IPython.core.display.HTML object>"
            ],
            "text/html": [
              "\n",
              "     <input type=\"file\" id=\"files-10040757-fbd4-496c-86d2-45d6da635da6\" name=\"files[]\" multiple disabled\n",
              "        style=\"border:none\" />\n",
              "     <output id=\"result-10040757-fbd4-496c-86d2-45d6da635da6\">\n",
              "      Upload widget is only available when the cell has been executed in the\n",
              "      current browser session. Please rerun this cell to enable.\n",
              "      </output>\n",
              "      <script>// Copyright 2017 Google LLC\n",
              "//\n",
              "// Licensed under the Apache License, Version 2.0 (the \"License\");\n",
              "// you may not use this file except in compliance with the License.\n",
              "// You may obtain a copy of the License at\n",
              "//\n",
              "//      http://www.apache.org/licenses/LICENSE-2.0\n",
              "//\n",
              "// Unless required by applicable law or agreed to in writing, software\n",
              "// distributed under the License is distributed on an \"AS IS\" BASIS,\n",
              "// WITHOUT WARRANTIES OR CONDITIONS OF ANY KIND, either express or implied.\n",
              "// See the License for the specific language governing permissions and\n",
              "// limitations under the License.\n",
              "\n",
              "/**\n",
              " * @fileoverview Helpers for google.colab Python module.\n",
              " */\n",
              "(function(scope) {\n",
              "function span(text, styleAttributes = {}) {\n",
              "  const element = document.createElement('span');\n",
              "  element.textContent = text;\n",
              "  for (const key of Object.keys(styleAttributes)) {\n",
              "    element.style[key] = styleAttributes[key];\n",
              "  }\n",
              "  return element;\n",
              "}\n",
              "\n",
              "// Max number of bytes which will be uploaded at a time.\n",
              "const MAX_PAYLOAD_SIZE = 100 * 1024;\n",
              "\n",
              "function _uploadFiles(inputId, outputId) {\n",
              "  const steps = uploadFilesStep(inputId, outputId);\n",
              "  const outputElement = document.getElementById(outputId);\n",
              "  // Cache steps on the outputElement to make it available for the next call\n",
              "  // to uploadFilesContinue from Python.\n",
              "  outputElement.steps = steps;\n",
              "\n",
              "  return _uploadFilesContinue(outputId);\n",
              "}\n",
              "\n",
              "// This is roughly an async generator (not supported in the browser yet),\n",
              "// where there are multiple asynchronous steps and the Python side is going\n",
              "// to poll for completion of each step.\n",
              "// This uses a Promise to block the python side on completion of each step,\n",
              "// then passes the result of the previous step as the input to the next step.\n",
              "function _uploadFilesContinue(outputId) {\n",
              "  const outputElement = document.getElementById(outputId);\n",
              "  const steps = outputElement.steps;\n",
              "\n",
              "  const next = steps.next(outputElement.lastPromiseValue);\n",
              "  return Promise.resolve(next.value.promise).then((value) => {\n",
              "    // Cache the last promise value to make it available to the next\n",
              "    // step of the generator.\n",
              "    outputElement.lastPromiseValue = value;\n",
              "    return next.value.response;\n",
              "  });\n",
              "}\n",
              "\n",
              "/**\n",
              " * Generator function which is called between each async step of the upload\n",
              " * process.\n",
              " * @param {string} inputId Element ID of the input file picker element.\n",
              " * @param {string} outputId Element ID of the output display.\n",
              " * @return {!Iterable<!Object>} Iterable of next steps.\n",
              " */\n",
              "function* uploadFilesStep(inputId, outputId) {\n",
              "  const inputElement = document.getElementById(inputId);\n",
              "  inputElement.disabled = false;\n",
              "\n",
              "  const outputElement = document.getElementById(outputId);\n",
              "  outputElement.innerHTML = '';\n",
              "\n",
              "  const pickedPromise = new Promise((resolve) => {\n",
              "    inputElement.addEventListener('change', (e) => {\n",
              "      resolve(e.target.files);\n",
              "    });\n",
              "  });\n",
              "\n",
              "  const cancel = document.createElement('button');\n",
              "  inputElement.parentElement.appendChild(cancel);\n",
              "  cancel.textContent = 'Cancel upload';\n",
              "  const cancelPromise = new Promise((resolve) => {\n",
              "    cancel.onclick = () => {\n",
              "      resolve(null);\n",
              "    };\n",
              "  });\n",
              "\n",
              "  // Wait for the user to pick the files.\n",
              "  const files = yield {\n",
              "    promise: Promise.race([pickedPromise, cancelPromise]),\n",
              "    response: {\n",
              "      action: 'starting',\n",
              "    }\n",
              "  };\n",
              "\n",
              "  cancel.remove();\n",
              "\n",
              "  // Disable the input element since further picks are not allowed.\n",
              "  inputElement.disabled = true;\n",
              "\n",
              "  if (!files) {\n",
              "    return {\n",
              "      response: {\n",
              "        action: 'complete',\n",
              "      }\n",
              "    };\n",
              "  }\n",
              "\n",
              "  for (const file of files) {\n",
              "    const li = document.createElement('li');\n",
              "    li.append(span(file.name, {fontWeight: 'bold'}));\n",
              "    li.append(span(\n",
              "        `(${file.type || 'n/a'}) - ${file.size} bytes, ` +\n",
              "        `last modified: ${\n",
              "            file.lastModifiedDate ? file.lastModifiedDate.toLocaleDateString() :\n",
              "                                    'n/a'} - `));\n",
              "    const percent = span('0% done');\n",
              "    li.appendChild(percent);\n",
              "\n",
              "    outputElement.appendChild(li);\n",
              "\n",
              "    const fileDataPromise = new Promise((resolve) => {\n",
              "      const reader = new FileReader();\n",
              "      reader.onload = (e) => {\n",
              "        resolve(e.target.result);\n",
              "      };\n",
              "      reader.readAsArrayBuffer(file);\n",
              "    });\n",
              "    // Wait for the data to be ready.\n",
              "    let fileData = yield {\n",
              "      promise: fileDataPromise,\n",
              "      response: {\n",
              "        action: 'continue',\n",
              "      }\n",
              "    };\n",
              "\n",
              "    // Use a chunked sending to avoid message size limits. See b/62115660.\n",
              "    let position = 0;\n",
              "    do {\n",
              "      const length = Math.min(fileData.byteLength - position, MAX_PAYLOAD_SIZE);\n",
              "      const chunk = new Uint8Array(fileData, position, length);\n",
              "      position += length;\n",
              "\n",
              "      const base64 = btoa(String.fromCharCode.apply(null, chunk));\n",
              "      yield {\n",
              "        response: {\n",
              "          action: 'append',\n",
              "          file: file.name,\n",
              "          data: base64,\n",
              "        },\n",
              "      };\n",
              "\n",
              "      let percentDone = fileData.byteLength === 0 ?\n",
              "          100 :\n",
              "          Math.round((position / fileData.byteLength) * 100);\n",
              "      percent.textContent = `${percentDone}% done`;\n",
              "\n",
              "    } while (position < fileData.byteLength);\n",
              "  }\n",
              "\n",
              "  // All done.\n",
              "  yield {\n",
              "    response: {\n",
              "      action: 'complete',\n",
              "    }\n",
              "  };\n",
              "}\n",
              "\n",
              "scope.google = scope.google || {};\n",
              "scope.google.colab = scope.google.colab || {};\n",
              "scope.google.colab._files = {\n",
              "  _uploadFiles,\n",
              "  _uploadFilesContinue,\n",
              "};\n",
              "})(self);\n",
              "</script> "
            ]
          },
          "metadata": {}
        },
        {
          "output_type": "stream",
          "name": "stdout",
          "text": [
            "Saving Data_Pathrise.csv to Data_Pathrise.csv\n"
          ]
        }
      ]
    },
    {
      "cell_type": "code",
      "source": [
        "df=pd.read_csv('Data_Pathrise.csv')"
      ],
      "metadata": {
        "id": "EpR_nDF0dFKe"
      },
      "execution_count": null,
      "outputs": []
    },
    {
      "cell_type": "code",
      "source": [
        "df.info()"
      ],
      "metadata": {
        "colab": {
          "base_uri": "https://localhost:8080/"
        },
        "id": "bKr4nv5Ed2il",
        "outputId": "e6d84376-b1d1-4c61-ca8f-8b4899646a25"
      },
      "execution_count": null,
      "outputs": [
        {
          "output_type": "stream",
          "name": "stdout",
          "text": [
            "<class 'pandas.core.frame.DataFrame'>\n",
            "RangeIndex: 2544 entries, 0 to 2543\n",
            "Data columns (total 16 columns):\n",
            " #   Column                       Non-Null Count  Dtype  \n",
            "---  ------                       --------------  -----  \n",
            " 0   id                           2544 non-null   int64  \n",
            " 1   pathrise_status              2544 non-null   object \n",
            " 2   primary_track                2544 non-null   object \n",
            " 3   cohort_tag                   2536 non-null   object \n",
            " 4   program_duration_days        1928 non-null   float64\n",
            " 5   placed                       2544 non-null   int64  \n",
            " 6   employment_status            2315 non-null   object \n",
            " 7   highest_level_of_education   2486 non-null   object \n",
            " 8   length_of_job_search         2470 non-null   object \n",
            " 9   biggest_challenge_in_search  2520 non-null   object \n",
            " 10  professional_experience      2322 non-null   object \n",
            " 11  work_authorization_status    2260 non-null   object \n",
            " 12  number_of_interviews         2326 non-null   float64\n",
            " 13  number_of_applications       2544 non-null   int64  \n",
            " 14  gender                       2052 non-null   object \n",
            " 15  race                         2526 non-null   object \n",
            "dtypes: float64(2), int64(3), object(11)\n",
            "memory usage: 318.1+ KB\n"
          ]
        }
      ]
    },
    {
      "cell_type": "markdown",
      "source": [
        "# **Names of members without repetition**"
      ],
      "metadata": {
        "id": "6pG6a5PVjN1U"
      }
    },
    {
      "cell_type": "code",
      "source": [
        "set (df['pathrise_status'])"
      ],
      "metadata": {
        "colab": {
          "base_uri": "https://localhost:8080/"
        },
        "id": "nKizYuJmgWSC",
        "outputId": "caf9d844-4bc5-4345-f8cc-c22b8382c619"
      },
      "execution_count": null,
      "outputs": [
        {
          "output_type": "execute_result",
          "data": {
            "text/plain": [
              "{'Active',\n",
              " 'Break',\n",
              " 'Closed Lost',\n",
              " 'Deferred',\n",
              " 'MIA',\n",
              " 'Placed',\n",
              " 'Withdrawn',\n",
              " 'Withdrawn (Failed)',\n",
              " 'Withdrawn (Trial)'}"
            ]
          },
          "metadata": {},
          "execution_count": 20
        }
      ]
    },
    {
      "cell_type": "markdown",
      "source": [
        "# How many times is each member repeated? with value_count"
      ],
      "metadata": {
        "id": "k-fgPUBejk4N"
      }
    },
    {
      "cell_type": "code",
      "source": [
        "df['pathrise_status'].value_counts()"
      ],
      "metadata": {
        "colab": {
          "base_uri": "https://localhost:8080/"
        },
        "id": "DB2koRhzhi_s",
        "outputId": "57ca7665-c181-4ed8-9ec7-f3999a124836"
      },
      "execution_count": null,
      "outputs": [
        {
          "output_type": "execute_result",
          "data": {
            "text/plain": [
              "Placed                956\n",
              "Active                532\n",
              "Withdrawn             398\n",
              "Withdrawn (Trial)     276\n",
              "Closed Lost           182\n",
              "Withdrawn (Failed)     82\n",
              "MIA                    52\n",
              "Deferred               34\n",
              "Break                  32\n",
              "Name: pathrise_status, dtype: int64"
            ]
          },
          "metadata": {},
          "execution_count": 23
        }
      ]
    },
    {
      "cell_type": "code",
      "source": [
        "df['pathrise_status'].hist()"
      ],
      "metadata": {
        "colab": {
          "base_uri": "https://localhost:8080/",
          "height": 451
        },
        "id": "VivbriR_h6ts",
        "outputId": "31eb05ce-93ec-4718-eb94-9b2ef111142c"
      },
      "execution_count": null,
      "outputs": [
        {
          "output_type": "execute_result",
          "data": {
            "text/plain": [
              "<Axes: >"
            ]
          },
          "metadata": {},
          "execution_count": 24
        },
        {
          "output_type": "display_data",
          "data": {
            "text/plain": [
              "<Figure size 640x480 with 1 Axes>"
            ],
            "image/png": "[encoded data removed]"
          },
          "metadata": {}
        }
      ]
    },
    {
      "cell_type": "markdown",
      "source": [
        "# Number of members per colomn with LEN"
      ],
      "metadata": {
        "id": "i73c0Gpmj6ID"
      }
    },
    {
      "cell_type": "code",
      "source": [
        "len(set(df ['pathrise_status']))"
      ],
      "metadata": {
        "colab": {
          "base_uri": "https://localhost:8080/"
        },
        "id": "1C6Fg40xiWyE",
        "outputId": "6d81deae-a294-441a-ad72-e0e88d15fd57"
      },
      "execution_count": null,
      "outputs": [
        {
          "output_type": "execute_result",
          "data": {
            "text/plain": [
              "9"
            ]
          },
          "metadata": {},
          "execution_count": 26
        }
      ]
    },
    {
      "cell_type": "code",
      "source": [
        "set (df['primary_track'])"
      ],
      "metadata": {
        "colab": {
          "base_uri": "https://localhost:8080/"
        },
        "id": "8ZKQeqOEg7H0",
        "outputId": "4ec7eaa5-8bb8-4917-be91-39bb3b7d7ea8"
      },
      "execution_count": null,
      "outputs": [
        {
          "output_type": "execute_result",
          "data": {
            "text/plain": [
              "{'Data', 'Design', 'Marketing', 'PSO', 'SWE', 'Web'}"
            ]
          },
          "metadata": {},
          "execution_count": 21
        }
      ]
    },
    {
      "cell_type": "code",
      "source": [
        "df['primary_track'].value_counts()"
      ],
      "metadata": {
        "colab": {
          "base_uri": "https://localhost:8080/"
        },
        "id": "h6kuvmGhhUSG",
        "outputId": "53d0a116-1a79-4d58-a533-c9136c514126"
      },
      "execution_count": null,
      "outputs": [
        {
          "output_type": "execute_result",
          "data": {
            "text/plain": [
              "SWE          1678\n",
              "PSO           322\n",
              "Design        288\n",
              "Data          248\n",
              "Web             6\n",
              "Marketing       2\n",
              "Name: primary_track, dtype: int64"
            ]
          },
          "metadata": {},
          "execution_count": 22
        }
      ]
    },
    {
      "cell_type": "code",
      "source": [
        "len(set(df ['primary_track']))"
      ],
      "metadata": {
        "colab": {
          "base_uri": "https://localhost:8080/"
        },
        "id": "b6xNOP3dkQDP",
        "outputId": "d2d9d3b5-0dd7-4a2c-957b-05937281c20a"
      },
      "execution_count": null,
      "outputs": [
        {
          "output_type": "execute_result",
          "data": {
            "text/plain": [
              "6"
            ]
          },
          "metadata": {},
          "execution_count": 27
        }
      ]
    },
    {
      "cell_type": "code",
      "source": [
        "df['primary_track'].hist()"
      ],
      "metadata": {
        "colab": {
          "base_uri": "https://localhost:8080/",
          "height": 447
        },
        "id": "nnKnSeYpkoJ0",
        "outputId": "605b2d29-2431-4092-c7ad-fd9959293846"
      },
      "execution_count": null,
      "outputs": [
        {
          "output_type": "execute_result",
          "data": {
            "text/plain": [
              "<Axes: >"
            ]
          },
          "metadata": {},
          "execution_count": 28
        },
        {
          "output_type": "display_data",
          "data": {
            "text/plain": [
              "<Figure size 640x480 with 1 Axes>"
            ],
            "image/png": "[encoded data removed]"
          },
          "metadata": {}
        }
      ]
    },
    {
      "cell_type": "code",
      "source": [
        "set (df['cohort_tag'])"
      ],
      "metadata": {
        "colab": {
          "base_uri": "https://localhost:8080/"
        },
        "id": "IJTGFw5ylKFq",
        "outputId": "8975bf6e-b0d0-440a-e336-0c57a16e5321"
      },
      "execution_count": null,
      "outputs": [
        {
          "output_type": "execute_result",
          "data": {
            "text/plain": [
              "{'APR18A',\n",
              " 'APR18B',\n",
              " 'APR19A',\n",
              " 'APR19B',\n",
              " 'APR20A',\n",
              " 'AUG18A',\n",
              " 'AUG19A',\n",
              " 'AUG19B',\n",
              " 'AUG19C',\n",
              " 'DEC18A',\n",
              " 'DEC19A',\n",
              " 'FEB18A',\n",
              " 'FEB19A',\n",
              " 'FEB19B',\n",
              " 'FEB20A',\n",
              " 'FEB20B',\n",
              " 'FEB20a',\n",
              " 'JAN18A',\n",
              " 'JAN19A',\n",
              " 'JAN19B',\n",
              " 'JAN20A',\n",
              " 'JAN20B',\n",
              " 'JUL19A',\n",
              " 'JUL19B',\n",
              " 'JUN18A',\n",
              " 'JUN19A',\n",
              " 'JUN19B',\n",
              " 'MAR18A',\n",
              " 'MAR19A',\n",
              " 'MAR19B',\n",
              " 'MAR20A',\n",
              " 'MAY18A',\n",
              " 'MAY19A',\n",
              " 'MAY19B',\n",
              " 'NOV18A',\n",
              " 'NOV19A',\n",
              " 'NOV19B',\n",
              " 'OCT18A',\n",
              " 'OCT18B',\n",
              " 'OCT19A',\n",
              " 'OCT19B',\n",
              " 'OCT21A',\n",
              " 'SEP18A',\n",
              " 'SEP18B',\n",
              " 'SEP18C',\n",
              " 'SEP19A',\n",
              " 'SEP19B',\n",
              " nan}"
            ]
          },
          "metadata": {},
          "execution_count": 31
        }
      ]
    },
    {
      "cell_type": "code",
      "source": [
        "len(set(df['cohort_tag']))"
      ],
      "metadata": {
        "colab": {
          "base_uri": "https://localhost:8080/"
        },
        "id": "lTDcHyptllaM",
        "outputId": "466aa18b-22a0-4711-cf55-6b0776208f2e"
      },
      "execution_count": null,
      "outputs": [
        {
          "output_type": "execute_result",
          "data": {
            "text/plain": [
              "48"
            ]
          },
          "metadata": {},
          "execution_count": 47
        }
      ]
    },
    {
      "cell_type": "code",
      "source": [
        "df['cohort_tag'].hist()"
      ],
      "metadata": {
        "colab": {
          "base_uri": "https://localhost:8080/",
          "height": 447
        },
        "id": "-ZW_A3oblvsW",
        "outputId": "2164ad60-6059-4ff8-ef62-068c9d1c5380"
      },
      "execution_count": null,
      "outputs": [
        {
          "output_type": "execute_result",
          "data": {
            "text/plain": [
              "<Axes: >"
            ]
          },
          "metadata": {},
          "execution_count": 35
        },
        {
          "output_type": "display_data",
          "data": {
            "text/plain": [
              "<Figure size 640x480 with 1 Axes>"
            ],
            "image/png": "[encoded data removed]"
          },
          "metadata": {}
        }
      ]
    },
    {
      "cell_type": "code",
      "source": [
        "df['cohort_tag'].value_counts()"
      ],
      "metadata": {
        "colab": {
          "base_uri": "https://localhost:8080/"
        },
        "id": "xEgeGxO8mMTT",
        "outputId": "17626db1-eca9-4d2f-c6e6-ebd7023be66f"
      },
      "execution_count": null,
      "outputs": [
        {
          "output_type": "execute_result",
          "data": {
            "text/plain": [
              "JAN19A    132\n",
              "JAN20A    124\n",
              "DEC18A    116\n",
              "FEB20A    108\n",
              "AUG19C     88\n",
              "OCT18B     84\n",
              "OCT18A     82\n",
              "AUG19B     82\n",
              "JAN20B     82\n",
              "JAN19B     74\n",
              "MAR19A     74\n",
              "OCT19A     68\n",
              "SEP19B     66\n",
              "JUL19A     66\n",
              "JUN19B     64\n",
              "DEC19A     64\n",
              "FEB19A     64\n",
              "NOV18A     62\n",
              "NOV19A     62\n",
              "SEP19A     60\n",
              "AUG19A     60\n",
              "OCT19B     54\n",
              "SEP18C     54\n",
              "JUN19A     54\n",
              "SEP18B     50\n",
              "AUG18A     50\n",
              "SEP18A     48\n",
              "APR19A     48\n",
              "JUN18A     48\n",
              "JUL19B     44\n",
              "MAR19B     44\n",
              "FEB19B     42\n",
              "NOV19B     40\n",
              "APR19B     34\n",
              "MAY18A     32\n",
              "MAR18A     30\n",
              "APR18B     30\n",
              "FEB18A     30\n",
              "FEB20B     28\n",
              "APR18A     24\n",
              "MAY19B     20\n",
              "MAY19A     18\n",
              "MAR20A     10\n",
              "JAN18A     10\n",
              "APR20A      6\n",
              "FEB20a      4\n",
              "OCT21A      2\n",
              "Name: cohort_tag, dtype: int64"
            ]
          },
          "metadata": {},
          "execution_count": 37
        }
      ]
    },
    {
      "cell_type": "code",
      "source": [
        "set(df['program_duration_days'])"
      ],
      "metadata": {
        "colab": {
          "base_uri": "https://localhost:8080/"
        },
        "id": "dOzqOwlvmtLb",
        "outputId": "2ef7de39-04ff-4efa-98bb-2b8eb28cbedb"
      },
      "execution_count": null,
      "outputs": [
        {
          "output_type": "execute_result",
          "data": {
            "text/plain": [
              "{0.0,\n",
              " 1.0,\n",
              " 2.0,\n",
              " 3.0,\n",
              " nan,\n",
              " 5.0,\n",
              " nan,\n",
              " 7.0,\n",
              " 8.0,\n",
              " 9.0,\n",
              " 10.0,\n",
              " 11.0,\n",
              " 12.0,\n",
              " 13.0,\n",
              " 14.0,\n",
              " 15.0,\n",
              " 16.0,\n",
              " nan,\n",
              " 18.0,\n",
              " 19.0,\n",
              " 20.0,\n",
              " nan,\n",
              " nan,\n",
              " nan,\n",
              " 24.0,\n",
              " nan,\n",
              " 26.0,\n",
              " 27.0,\n",
              " 28.0,\n",
              " nan,\n",
              " nan,\n",
              " 31.0,\n",
              " 32.0,\n",
              " 33.0,\n",
              " 34.0,\n",
              " nan,\n",
              " 36.0,\n",
              " 37.0,\n",
              " 38.0,\n",
              " nan,\n",
              " 40.0,\n",
              " 41.0,\n",
              " 42.0,\n",
              " nan,\n",
              " 44.0,\n",
              " 45.0,\n",
              " 46.0,\n",
              " 47.0,\n",
              " 48.0,\n",
              " nan,\n",
              " nan,\n",
              " nan,\n",
              " 52.0,\n",
              " 53.0,\n",
              " 54.0,\n",
              " nan,\n",
              " nan,\n",
              " 57.0,\n",
              " 58.0,\n",
              " 59.0,\n",
              " 60.0,\n",
              " nan,\n",
              " 62.0,\n",
              " nan,\n",
              " 64.0,\n",
              " 65.0,\n",
              " 66.0,\n",
              " 67.0,\n",
              " 68.0,\n",
              " 69.0,\n",
              " nan,\n",
              " 63.0,\n",
              " 72.0,\n",
              " 73.0,\n",
              " 74.0,\n",
              " 75.0,\n",
              " 76.0,\n",
              " nan,\n",
              " nan,\n",
              " 79.0,\n",
              " 80.0,\n",
              " 81.0,\n",
              " 82.0,\n",
              " 83.0,\n",
              " 84.0,\n",
              " 78.0,\n",
              " 86.0,\n",
              " 87.0,\n",
              " 88.0,\n",
              " 89.0,\n",
              " nan,\n",
              " 91.0,\n",
              " 85.0,\n",
              " 93.0,\n",
              " 94.0,\n",
              " 95.0,\n",
              " 92.0,\n",
              " 97.0,\n",
              " 90.0,\n",
              " 99.0,\n",
              " 100.0,\n",
              " 101.0,\n",
              " nan,\n",
              " 103.0,\n",
              " 102.0,\n",
              " 96.0,\n",
              " 106.0,\n",
              " 107.0,\n",
              " 108.0,\n",
              " 109.0,\n",
              " 110.0,\n",
              " 111.0,\n",
              " 4.0,\n",
              " 21.0,\n",
              " 114.0,\n",
              " 115.0,\n",
              " 116.0,\n",
              " 117.0,\n",
              " 118.0,\n",
              " 119.0,\n",
              " 120.0,\n",
              " 121.0,\n",
              " 122.0,\n",
              " 123.0,\n",
              " 124.0,\n",
              " 125.0,\n",
              " 25.0,\n",
              " 126.0,\n",
              " 128.0,\n",
              " 129.0,\n",
              " 130.0,\n",
              " 131.0,\n",
              " 132.0,\n",
              " 133.0,\n",
              " 127.0,\n",
              " 135.0,\n",
              " 136.0,\n",
              " 137.0,\n",
              " 138.0,\n",
              " 139.0,\n",
              " nan,\n",
              " 141.0,\n",
              " 142.0,\n",
              " 143.0,\n",
              " 144.0,\n",
              " 145.0,\n",
              " nan,\n",
              " 147.0,\n",
              " 140.0,\n",
              " 149.0,\n",
              " 150.0,\n",
              " 151.0,\n",
              " 152.0,\n",
              " 153.0,\n",
              " 154.0,\n",
              " 30.0,\n",
              " 156.0,\n",
              " 6.0,\n",
              " 158.0,\n",
              " 159.0,\n",
              " 160.0,\n",
              " nan,\n",
              " 162.0,\n",
              " 163.0,\n",
              " 164.0,\n",
              " 165.0,\n",
              " 166.0,\n",
              " 167.0,\n",
              " 168.0,\n",
              " 169.0,\n",
              " 170.0,\n",
              " 171.0,\n",
              " 172.0,\n",
              " 173.0,\n",
              " 174.0,\n",
              " 175.0,\n",
              " 176.0,\n",
              " 177.0,\n",
              " 178.0,\n",
              " 179.0,\n",
              " nan,\n",
              " 181.0,\n",
              " 180.0,\n",
              " 183.0,\n",
              " 184.0,\n",
              " 185.0,\n",
              " 186.0,\n",
              " 187.0,\n",
              " 188.0,\n",
              " nan,\n",
              " nan,\n",
              " 191.0,\n",
              " 192.0,\n",
              " 193.0,\n",
              " 194.0,\n",
              " 195.0,\n",
              " 196.0,\n",
              " 39.0,\n",
              " 198.0,\n",
              " 199.0,\n",
              " 197.0,\n",
              " 201.0,\n",
              " 202.0,\n",
              " 203.0,\n",
              " nan,\n",
              " nan,\n",
              " 206.0,\n",
              " 207.0,\n",
              " 208.0,\n",
              " 209.0,\n",
              " 210.0,\n",
              " nan,\n",
              " 212.0,\n",
              " 213.0,\n",
              " 214.0,\n",
              " 215.0,\n",
              " 211.0,\n",
              " 217.0,\n",
              " nan,\n",
              " 219.0,\n",
              " 220.0,\n",
              " 221.0,\n",
              " 222.0,\n",
              " 223.0,\n",
              " 224.0,\n",
              " 225.0,\n",
              " 226.0,\n",
              " 227.0,\n",
              " 228.0,\n",
              " nan,\n",
              " 230.0,\n",
              " nan,\n",
              " 232.0,\n",
              " 233.0,\n",
              " 234.0,\n",
              " nan,\n",
              " 236.0,\n",
              " nan,\n",
              " 235.0,\n",
              " nan,\n",
              " 240.0,\n",
              " 241.0,\n",
              " 242.0,\n",
              " 243.0,\n",
              " 244.0,\n",
              " 245.0,\n",
              " 246.0,\n",
              " 247.0,\n",
              " 248.0,\n",
              " 249.0,\n",
              " 250.0,\n",
              " nan,\n",
              " 252.0,\n",
              " 253.0,\n",
              " 254.0,\n",
              " 49.0,\n",
              " 256.0,\n",
              " 51.0,\n",
              " 258.0,\n",
              " 257.0,\n",
              " 255.0,\n",
              " 261.0,\n",
              " nan,\n",
              " 263.0,\n",
              " nan,\n",
              " nan,\n",
              " 266.0,\n",
              " nan,\n",
              " 268.0,\n",
              " 269.0,\n",
              " 270.0,\n",
              " 271.0,\n",
              " 272.0,\n",
              " nan,\n",
              " 274.0,\n",
              " 275.0,\n",
              " 276.0,\n",
              " 277.0,\n",
              " 55.0,\n",
              " nan,\n",
              " 280.0,\n",
              " 279.0,\n",
              " 282.0,\n",
              " 283.0,\n",
              " 284.0,\n",
              " 285.0,\n",
              " 286.0,\n",
              " 56.0,\n",
              " nan,\n",
              " 289.0,\n",
              " 290.0,\n",
              " 291.0,\n",
              " 292.0,\n",
              " 293.0,\n",
              " nan,\n",
              " nan,\n",
              " 296.0,\n",
              " nan,\n",
              " 298.0,\n",
              " nan,\n",
              " 300.0,\n",
              " nan,\n",
              " 299.0,\n",
              " 303.0,\n",
              " nan,\n",
              " 305.0,\n",
              " 306.0,\n",
              " 61.0,\n",
              " 307.0,\n",
              " nan,\n",
              " 310.0,\n",
              " nan,\n",
              " 309.0,\n",
              " 313.0,\n",
              " 314.0,\n",
              " nan,\n",
              " 316.0,\n",
              " 317.0,\n",
              " nan,\n",
              " 319.0,\n",
              " 320.0,\n",
              " nan,\n",
              " nan,\n",
              " nan,\n",
              " 323.0,\n",
              " 325.0,\n",
              " nan,\n",
              " 324.0,\n",
              " 328.0,\n",
              " 326.0,\n",
              " 321.0,\n",
              " 331.0,\n",
              " 332.0,\n",
              " nan,\n",
              " nan,\n",
              " nan,\n",
              " 330.0,\n",
              " nan,\n",
              " nan,\n",
              " 339.0,\n",
              " 338.0,\n",
              " nan,\n",
              " 342.0,\n",
              " nan,\n",
              " 340.0,\n",
              " 345.0,\n",
              " nan,\n",
              " 347.0,\n",
              " nan,\n",
              " nan,\n",
              " 344.0,\n",
              " nan,\n",
              " 343.0,\n",
              " 70.0,\n",
              " 354.0,\n",
              " nan,\n",
              " 356.0,\n",
              " nan,\n",
              " 71.0,\n",
              " 359.0,\n",
              " 360.0,\n",
              " nan,\n",
              " 362.0,\n",
              " nan,\n",
              " nan,\n",
              " 365.0,\n",
              " nan,\n",
              " nan,\n",
              " 361.0,\n",
              " nan,\n",
              " 370.0,\n",
              " nan,\n",
              " 364.0,\n",
              " nan,\n",
              " nan,\n",
              " nan,\n",
              " nan,\n",
              " nan,\n",
              " nan,\n",
              " nan,\n",
              " 77.0,\n",
              " nan,\n",
              " nan,\n",
              " nan,\n",
              " 395.0,\n",
              " nan,\n",
              " nan,\n",
              " nan,\n",
              " 401.0,\n",
              " nan,\n",
              " nan,\n",
              " 404.0,\n",
              " nan,\n",
              " 403.0,\n",
              " 407.0,\n",
              " nan,\n",
              " nan,\n",
              " 410.0,\n",
              " nan,\n",
              " 488.0,\n",
              " nan,\n",
              " nan,\n",
              " nan,\n",
              " 508.0,\n",
              " 419.0,\n",
              " 420.0,\n",
              " nan,\n",
              " 422.0,\n",
              " nan,\n",
              " 421.0,\n",
              " nan,\n",
              " 423.0,\n",
              " nan,\n",
              " 425.0,\n",
              " 429.0,\n",
              " 430.0,\n",
              " 17.0,\n",
              " nan,\n",
              " nan,\n",
              " 434.0,\n",
              " nan,\n",
              " 436.0,\n",
              " nan,\n",
              " 433.0,\n",
              " nan,\n",
              " 440.0,\n",
              " nan,\n",
              " nan,\n",
              " nan,\n",
              " 445.0,\n",
              " nan,\n",
              " nan,\n",
              " 450.0,\n",
              " 451.0,\n",
              " nan,\n",
              " nan,\n",
              " nan,\n",
              " 456.0,\n",
              " nan,\n",
              " 458.0,\n",
              " nan,\n",
              " 459.0,\n",
              " nan,\n",
              " 460.0,\n",
              " nan,\n",
              " 464.0,\n",
              " 465.0,\n",
              " nan,\n",
              " nan,\n",
              " 466.0,\n",
              " nan,\n",
              " nan,\n",
              " 472.0,\n",
              " nan,\n",
              " nan,\n",
              " 475.0,\n",
              " nan,\n",
              " 478.0,\n",
              " nan,\n",
              " 479.0,\n",
              " nan,\n",
              " 481.0,\n",
              " nan,\n",
              " 477.0,\n",
              " nan,\n",
              " 486.0,\n",
              " nan,\n",
              " 487.0,\n",
              " 489.0,\n",
              " nan,\n",
              " nan,\n",
              " 492.0,\n",
              " nan,\n",
              " 98.0,\n",
              " 495.0,\n",
              " nan,\n",
              " nan,\n",
              " 496.0,\n",
              " nan,\n",
              " 498.0,\n",
              " nan,\n",
              " 502.0,\n",
              " nan,\n",
              " 503.0,\n",
              " nan,\n",
              " 506.0,\n",
              " 507.0,\n",
              " nan,\n",
              " nan,\n",
              " 510.0,\n",
              " nan,\n",
              " 512.0,\n",
              " nan,\n",
              " 514.0,\n",
              " 515.0,\n",
              " nan,\n",
              " nan,\n",
              " 517.0,\n",
              " nan,\n",
              " 520.0,\n",
              " nan,\n",
              " 522.0,\n",
              " 523.0,\n",
              " nan,\n",
              " nan,\n",
              " 519.0,\n",
              " nan,\n",
              " 104.0,\n",
              " nan,\n",
              " 105.0,\n",
              " nan,\n",
              " nan,\n",
              " 534.0,\n",
              " nan,\n",
              " nan,\n",
              " nan,\n",
              " 543.0,\n",
              " nan,\n",
              " 548.0,\n",
              " nan,\n",
              " nan,\n",
              " 22.0,\n",
              " nan,\n",
              " nan,\n",
              " nan,\n",
              " 112.0,\n",
              " nan,\n",
              " nan,\n",
              " nan,\n",
              " 113.0,\n",
              " nan,\n",
              " 23.0,\n",
              " nan,\n",
              " nan,\n",
              " nan,\n",
              " nan,\n",
              " nan,\n",
              " nan,\n",
              " nan,\n",
              " nan,\n",
              " nan,\n",
              " nan,\n",
              " nan,\n",
              " nan,\n",
              " nan,\n",
              " nan,\n",
              " nan,\n",
              " nan,\n",
              " nan,\n",
              " nan,\n",
              " nan,\n",
              " nan,\n",
              " nan,\n",
              " nan,\n",
              " nan,\n",
              " nan,\n",
              " nan,\n",
              " nan,\n",
              " nan,\n",
              " nan,\n",
              " nan,\n",
              " nan,\n",
              " nan,\n",
              " nan,\n",
              " nan,\n",
              " nan,\n",
              " nan,\n",
              " nan,\n",
              " nan,\n",
              " nan,\n",
              " nan,\n",
              " nan,\n",
              " nan,\n",
              " nan,\n",
              " nan,\n",
              " nan,\n",
              " nan,\n",
              " nan,\n",
              " nan,\n",
              " nan,\n",
              " nan,\n",
              " nan,\n",
              " 29.0,\n",
              " nan,\n",
              " nan,\n",
              " 146.0,\n",
              " nan,\n",
              " nan,\n",
              " nan,\n",
              " nan,\n",
              " 148.0,\n",
              " nan,\n",
              " nan,\n",
              " nan,\n",
              " nan,\n",
              " nan,\n",
              " nan,\n",
              " nan,\n",
              " 155.0,\n",
              " nan,\n",
              " 157.0,\n",
              " nan,\n",
              " nan,\n",
              " nan,\n",
              " nan,\n",
              " nan,\n",
              " nan,\n",
              " nan,\n",
              " nan,\n",
              " 161.0,\n",
              " nan,\n",
              " nan,\n",
              " nan,\n",
              " nan,\n",
              " nan,\n",
              " nan,\n",
              " nan,\n",
              " nan,\n",
              " nan,\n",
              " nan,\n",
              " nan,\n",
              " nan,\n",
              " nan,\n",
              " nan,\n",
              " nan,\n",
              " nan,\n",
              " nan,\n",
              " nan,\n",
              " nan,\n",
              " nan,\n",
              " nan,\n",
              " nan,\n",
              " nan,\n",
              " nan,\n",
              " 35.0,\n",
              " nan,\n",
              " nan,\n",
              " nan,\n",
              " nan,\n",
              " nan,\n",
              " nan,\n",
              " nan,\n",
              " nan,\n",
              " 182.0,\n",
              " nan,\n",
              " nan,\n",
              " nan,\n",
              " nan,\n",
              " nan,\n",
              " nan,\n",
              " nan,\n",
              " nan,\n",
              " nan,\n",
              " nan,\n",
              " nan,\n",
              " nan,\n",
              " nan,\n",
              " 189.0,\n",
              " nan,\n",
              " 190.0,\n",
              " nan,\n",
              " nan,\n",
              " nan,\n",
              " nan,\n",
              " nan,\n",
              " nan,\n",
              " nan,\n",
              " nan,\n",
              " nan,\n",
              " nan,\n",
              " nan,\n",
              " nan,\n",
              " nan,\n",
              " nan,\n",
              " nan,\n",
              " nan,\n",
              " nan,\n",
              " nan,\n",
              " nan,\n",
              " nan,\n",
              " nan,\n",
              " nan,\n",
              " nan,\n",
              " nan,\n",
              " nan,\n",
              " nan,\n",
              " nan,\n",
              " nan,\n",
              " nan,\n",
              " 204.0,\n",
              " nan,\n",
              " 205.0,\n",
              " nan,\n",
              " nan,\n",
              " nan,\n",
              " nan,\n",
              " nan,\n",
              " nan,\n",
              " nan,\n",
              " nan,\n",
              " nan,\n",
              " nan,\n",
              " nan,\n",
              " nan,\n",
              " nan,\n",
              " nan,\n",
              " nan,\n",
              " nan,\n",
              " nan,\n",
              " nan,\n",
              " nan,\n",
              " nan,\n",
              " nan,\n",
              " nan,\n",
              " nan,\n",
              " nan,\n",
              " 43.0,\n",
              " nan,\n",
              " 216.0,\n",
              " nan,\n",
              " nan,\n",
              " nan,\n",
              " nan,\n",
              " nan,\n",
              " nan,\n",
              " nan,\n",
              " nan,\n",
              " nan,\n",
              " nan,\n",
              " nan,\n",
              " nan,\n",
              " nan,\n",
              " nan,\n",
              " nan,\n",
              " nan,\n",
              " nan,\n",
              " nan,\n",
              " nan,\n",
              " nan,\n",
              " nan,\n",
              " nan,\n",
              " nan,\n",
              " nan,\n",
              " nan,\n",
              " nan,\n",
              " nan,\n",
              " 229.0,\n",
              " nan,\n",
              " nan,\n",
              " nan,\n",
              " nan,\n",
              " nan,\n",
              " nan,\n",
              " nan,\n",
              " nan,\n",
              " nan,\n",
              " nan,\n",
              " nan,\n",
              " nan,\n",
              " nan,\n",
              " nan,\n",
              " 237.0,\n",
              " nan,\n",
              " nan,\n",
              " nan,\n",
              " nan,\n",
              " 239.0,\n",
              " nan,\n",
              " nan,\n",
              " nan,\n",
              " nan,\n",
              " nan,\n",
              " nan,\n",
              " nan,\n",
              " nan,\n",
              " nan,\n",
              " nan,\n",
              " nan,\n",
              " nan,\n",
              " nan,\n",
              " nan,\n",
              " nan,\n",
              " nan,\n",
              " nan,\n",
              " nan,\n",
              " nan,\n",
              " nan,\n",
              " nan,\n",
              " nan,\n",
              " nan,\n",
              " nan,\n",
              " nan,\n",
              " nan,\n",
              " nan,\n",
              " nan,\n",
              " 50.0,\n",
              " nan,\n",
              " nan,\n",
              " 457.0,\n",
              " nan,\n",
              " nan,\n",
              " nan,\n",
              " nan,\n",
              " nan,\n",
              " nan,\n",
              " nan,\n",
              " nan,\n",
              " nan,\n",
              " nan,\n",
              " nan,\n",
              " nan,\n",
              " nan,\n",
              " nan,\n",
              " nan,\n",
              " nan,\n",
              " nan,\n",
              " nan,\n",
              " nan,\n",
              " nan,\n",
              " nan,\n",
              " nan,\n",
              " nan,\n",
              " 260.0,\n",
              " nan,\n",
              " nan,\n",
              " nan,\n",
              " nan,\n",
              " nan,\n",
              " nan,\n",
              " 262.0,\n",
              " nan,\n",
              " nan,\n",
              " nan,\n",
              " nan,\n",
              " nan,\n",
              " 264.0,\n",
              " nan,\n",
              " nan,\n",
              " nan,\n",
              " 265.0,\n",
              " nan,\n",
              " nan,\n",
              " nan,\n",
              " nan,\n",
              " nan,\n",
              " 267.0,\n",
              " nan,\n",
              " nan,\n",
              " nan,\n",
              " nan,\n",
              " nan,\n",
              " nan,\n",
              " nan,\n",
              " nan,\n",
              " nan,\n",
              " nan,\n",
              " nan,\n",
              " nan,\n",
              " nan,\n",
              " nan,\n",
              " nan,\n",
              " nan,\n",
              " nan,\n",
              " nan,\n",
              " nan,\n",
              " nan,\n",
              " nan,\n",
              " nan,\n",
              " nan,\n",
              " nan,\n",
              " nan,\n",
              " nan,\n",
              " nan,\n",
              " nan,\n",
              " nan,\n",
              " nan,\n",
              " 278.0,\n",
              " 281.0,\n",
              " nan,\n",
              " nan,\n",
              " nan,\n",
              " 287.0,\n",
              " 288.0,\n",
              " nan,\n",
              " nan,\n",
              " nan,\n",
              " nan,\n",
              " 294.0,\n",
              " nan,\n",
              " nan,\n",
              " 295.0,\n",
              " nan,\n",
              " nan,\n",
              " nan,\n",
              " 297.0,\n",
              " nan,\n",
              " nan,\n",
              " nan,\n",
              " 301.0,\n",
              " 302.0,\n",
              " nan,\n",
              " 304.0,\n",
              " 308.0,\n",
              " nan,\n",
              " 311.0,\n",
              " nan,\n",
              " nan,\n",
              " 312.0,\n",
              " nan,\n",
              " nan,\n",
              " nan,\n",
              " nan,\n",
              " nan,\n",
              " nan,\n",
              " nan,\n",
              " 318.0,\n",
              " nan,\n",
              " nan,\n",
              " nan,\n",
              " nan,\n",
              " 322.0,\n",
              " nan,\n",
              " nan,\n",
              " nan,\n",
              " nan,\n",
              " nan,\n",
              " nan,\n",
              " nan,\n",
              " 327.0,\n",
              " nan,\n",
              " nan,\n",
              " nan,\n",
              " nan,\n",
              " 329.0,\n",
              " nan,\n",
              " nan,\n",
              " nan,\n",
              " 334.0,\n",
              " nan,\n",
              " 335.0,\n",
              " nan,\n",
              " 336.0,\n",
              " nan,\n",
              " 337.0,\n",
              " nan,\n",
              " nan,\n",
              " nan,\n",
              " nan,\n",
              " nan,\n",
              " 341.0,\n",
              " nan,\n",
              " nan,\n",
              " nan,\n",
              " nan,\n",
              " nan,\n",
              " nan,\n",
              " nan,\n",
              " 350.0,\n",
              " 351.0,\n",
              " nan,\n",
              " nan,\n",
              " nan,\n",
              " 353.0,\n",
              " nan,\n",
              " nan,\n",
              " nan,\n",
              " nan,\n",
              " nan,\n",
              " 357.0,\n",
              " nan,\n",
              " nan,\n",
              " nan,\n",
              " nan,\n",
              " nan,\n",
              " nan,\n",
              " nan,\n",
              " nan,\n",
              " 363.0,\n",
              " nan,\n",
              " nan,\n",
              " nan,\n",
              " nan,\n",
              " nan,\n",
              " nan,\n",
              " nan,\n",
              " nan,\n",
              " nan,\n",
              " nan,\n",
              " nan,\n",
              " nan,\n",
              " nan,\n",
              " nan,\n",
              " nan,\n",
              " nan,\n",
              " nan,\n",
              " nan,\n",
              " nan,\n",
              " nan,\n",
              " nan,\n",
              " nan,\n",
              " ...}"
            ]
          },
          "metadata": {},
          "execution_count": 42
        }
      ]
    },
    {
      "cell_type": "code",
      "source": [
        "df['program_duration_days'].value_counts()"
      ],
      "metadata": {
        "colab": {
          "base_uri": "https://localhost:8080/"
        },
        "id": "FyZAGYNAnGBB",
        "outputId": "49ebde8e-b178-4ccf-848f-a18541c5f29d"
      },
      "execution_count": null,
      "outputs": [
        {
          "output_type": "execute_result",
          "data": {
            "text/plain": [
              "0.0      217\n",
              "13.0      34\n",
              "11.0      27\n",
              "12.0      25\n",
              "14.0      22\n",
              "        ... \n",
              "279.0      1\n",
              "370.0      1\n",
              "523.0      1\n",
              "502.0      1\n",
              "488.0      1\n",
              "Name: program_duration_days, Length: 411, dtype: int64"
            ]
          },
          "metadata": {},
          "execution_count": 41
        }
      ]
    },
    {
      "cell_type": "code",
      "source": [
        "len(set (df['program_duration_days']))"
      ],
      "metadata": {
        "colab": {
          "base_uri": "https://localhost:8080/"
        },
        "id": "6T0d0AvXnqLh",
        "outputId": "de206118-cdde-4346-b795-b48dc322bd31"
      },
      "execution_count": null,
      "outputs": [
        {
          "output_type": "execute_result",
          "data": {
            "text/plain": [
              "1027"
            ]
          },
          "metadata": {},
          "execution_count": 46
        }
      ]
    },
    {
      "cell_type": "code",
      "source": [
        "df['program_duration_days'].hist()"
      ],
      "metadata": {
        "colab": {
          "base_uri": "https://localhost:8080/",
          "height": 447
        },
        "id": "magT5N8soaf0",
        "outputId": "2dce080f-e426-4834-8171-1db9f4d0f4f7"
      },
      "execution_count": null,
      "outputs": [
        {
          "output_type": "execute_result",
          "data": {
            "text/plain": [
              "<Axes: >"
            ]
          },
          "metadata": {},
          "execution_count": 48
        },
        {
          "output_type": "display_data",
          "data": {
            "text/plain": [
              "<Figure size 640x480 with 1 Axes>"
            ],
            "image/png": "[encoded data removed]"
          },
          "metadata": {}
        }
      ]
    },
    {
      "cell_type": "code",
      "source": [
        "df['program_duration_days'].plot()"
      ],
      "metadata": {
        "colab": {
          "base_uri": "https://localhost:8080/",
          "height": 447
        },
        "id": "okwqaeDSohzj",
        "outputId": "07d8893c-f86e-4894-f0b7-d3045f6b770a"
      },
      "execution_count": null,
      "outputs": [
        {
          "output_type": "execute_result",
          "data": {
            "text/plain": [
              "<Axes: >"
            ]
          },
          "metadata": {},
          "execution_count": 49
        },
        {
          "output_type": "display_data",
          "data": {
            "text/plain": [
              "<Figure size 640x480 with 1 Axes>"
            ],
            "image/png": "[encoded data removed]"
          },
          "metadata": {}
        }
      ]
    },
    {
      "cell_type": "code",
      "source": [
        "set(df['placed'])"
      ],
      "metadata": {
        "colab": {
          "base_uri": "https://localhost:8080/"
        },
        "id": "qNDZeI8CAKQF",
        "outputId": "64aa92bd-81b6-47fe-ad08-11afc0a409f4"
      },
      "execution_count": null,
      "outputs": [
        {
          "output_type": "execute_result",
          "data": {
            "text/plain": [
              "{0, 1}"
            ]
          },
          "metadata": {},
          "execution_count": 10
        }
      ]
    },
    {
      "cell_type": "code",
      "source": [
        "df['placed'].plot()"
      ],
      "metadata": {
        "colab": {
          "base_uri": "https://localhost:8080/",
          "height": 447
        },
        "id": "dps2zYTXBm5I",
        "outputId": "307894be-2549-4d67-d874-60fec82a2dbc"
      },
      "execution_count": null,
      "outputs": [
        {
          "output_type": "execute_result",
          "data": {
            "text/plain": [
              "<Axes: >"
            ]
          },
          "metadata": {},
          "execution_count": 11
        },
        {
          "output_type": "display_data",
          "data": {
            "text/plain": [
              "<Figure size 640x480 with 1 Axes>"
            ],
            "image/png": "[encoded data removed]"
          },
          "metadata": {}
        }
      ]
    },
    {
      "cell_type": "code",
      "source": [
        "df['placed'].hist()"
      ],
      "metadata": {
        "colab": {
          "base_uri": "https://localhost:8080/",
          "height": 447
        },
        "id": "i6bQBB0BBrDV",
        "outputId": "a06606ea-a65a-4574-f8be-b5bbb5212ce3"
      },
      "execution_count": null,
      "outputs": [
        {
          "output_type": "execute_result",
          "data": {
            "text/plain": [
              "<Axes: >"
            ]
          },
          "metadata": {},
          "execution_count": 12
        },
        {
          "output_type": "display_data",
          "data": {
            "text/plain": [
              "<Figure size 640x480 with 1 Axes>"
            ],
            "image/png": "[encoded data removed]"
          },
          "metadata": {}
        }
      ]
    },
    {
      "cell_type": "code",
      "source": [
        "df['placed'].value_counts()"
      ],
      "metadata": {
        "colab": {
          "base_uri": "https://localhost:8080/"
        },
        "id": "xC84Wy7NB6Eh",
        "outputId": "44a0bffe-2fc5-4787-b908-6281f1a1512e"
      },
      "execution_count": null,
      "outputs": [
        {
          "output_type": "execute_result",
          "data": {
            "text/plain": [
              "0    1588\n",
              "1     956\n",
              "Name: placed, dtype: int64"
            ]
          },
          "metadata": {},
          "execution_count": 13
        }
      ]
    },
    {
      "cell_type": "code",
      "source": [
        "df['highest_level_of_education'].value_counts()"
      ],
      "metadata": {
        "colab": {
          "base_uri": "https://localhost:8080/"
        },
        "id": "hRAZmQG3Cn_Y",
        "outputId": "f4446956-ef3c-42e0-8ee7-f0508a6d3aa7"
      },
      "execution_count": null,
      "outputs": [
        {
          "output_type": "execute_result",
          "data": {
            "text/plain": [
              "Bachelor's Degree                   1361\n",
              "Master's Degree                      810\n",
              "Some College, No Degree              135\n",
              "Doctorate or Professional Degree     135\n",
              "High School Graduate                  15\n",
              "GED or equivalent                     15\n",
              "Some High School                      15\n",
              "Name: highest_level_of_education, dtype: int64"
            ]
          },
          "metadata": {},
          "execution_count": 19
        }
      ]
    },
    {
      "cell_type": "code",
      "source": [
        "len(set (df['highest_level_of_education']))"
      ],
      "metadata": {
        "colab": {
          "base_uri": "https://localhost:8080/"
        },
        "id": "rgawjGVbDIZ-",
        "outputId": "d53844c2-8404-4877-b77f-4200e14d7657"
      },
      "execution_count": null,
      "outputs": [
        {
          "output_type": "execute_result",
          "data": {
            "text/plain": [
              "8"
            ]
          },
          "metadata": {},
          "execution_count": 20
        }
      ]
    },
    {
      "cell_type": "code",
      "source": [
        "df['highest_level_of_education'].hist()"
      ],
      "metadata": {
        "colab": {
          "base_uri": "https://localhost:8080/",
          "height": 447
        },
        "id": "h9l2SLynDZXX",
        "outputId": "41b0feb1-730e-4428-b92f-412972410bec"
      },
      "execution_count": null,
      "outputs": [
        {
          "output_type": "execute_result",
          "data": {
            "text/plain": [
              "<Axes: >"
            ]
          },
          "metadata": {},
          "execution_count": 21
        },
        {
          "output_type": "display_data",
          "data": {
            "text/plain": [
              "<Figure size 640x480 with 1 Axes>"
            ],
            "image/png": "[encoded data removed]"
          },
          "metadata": {}
        }
      ]
    },
    {
      "cell_type": "code",
      "source": [
        "df['biggest_challenge_in_search'].value_counts()"
      ],
      "metadata": {
        "colab": {
          "base_uri": "https://localhost:8080/"
        },
        "id": "pZI28iZQDpP-",
        "outputId": "0cb303db-591e-4b3e-8780-edf44352e933"
      },
      "execution_count": null,
      "outputs": [
        {
          "output_type": "execute_result",
          "data": {
            "text/plain": [
              "Hearing back on my applications         1002\n",
              "Getting past final round interviews      294\n",
              "Technical interviewing                   288\n",
              "Lack of relevant experience              222\n",
              "Getting past mid-stage interviews        210\n",
              "Figuring out which jobs to apply for     186\n",
              "Getting past phone screens               180\n",
              "Behavioral interviewing                   60\n",
              "Resume gap                                42\n",
              "Technical skills                          36\n",
              "Name: biggest_challenge_in_search, dtype: int64"
            ]
          },
          "metadata": {},
          "execution_count": 22
        }
      ]
    },
    {
      "cell_type": "code",
      "source": [
        "len(set (df['biggest_challenge_in_search']))"
      ],
      "metadata": {
        "colab": {
          "base_uri": "https://localhost:8080/"
        },
        "id": "Xt4RymGiD8rJ",
        "outputId": "79ede1da-3e18-4e84-ecdd-a4f2812fedd8"
      },
      "execution_count": null,
      "outputs": [
        {
          "output_type": "execute_result",
          "data": {
            "text/plain": [
              "11"
            ]
          },
          "metadata": {},
          "execution_count": 23
        }
      ]
    },
    {
      "cell_type": "code",
      "source": [
        "df['biggest_challenge_in_search'].hist()"
      ],
      "metadata": {
        "colab": {
          "base_uri": "https://localhost:8080/",
          "height": 447
        },
        "id": "sHRS4R7TEKcZ",
        "outputId": "13b7ed41-1a81-49ef-9805-dc3982184e08"
      },
      "execution_count": null,
      "outputs": [
        {
          "output_type": "execute_result",
          "data": {
            "text/plain": [
              "<Axes: >"
            ]
          },
          "metadata": {},
          "execution_count": 24
        },
        {
          "output_type": "display_data",
          "data": {
            "text/plain": [
              "<Figure size 640x480 with 1 Axes>"
            ],
            "image/png": "[encoded data removed]"
          },
          "metadata": {}
        }
      ]
    },
    {
      "cell_type": "code",
      "source": [
        "df['professional_experience'].value_counts()"
      ],
      "metadata": {
        "colab": {
          "base_uri": "https://localhost:8080/"
        },
        "id": "uIZvZ7MSEYI8",
        "outputId": "b24bd489-9cfd-4b2c-b058-03548d6427e0"
      },
      "execution_count": null,
      "outputs": [
        {
          "output_type": "execute_result",
          "data": {
            "text/plain": [
              "1-2 years             882\n",
              "Less than one year    618\n",
              "3-4 years             558\n",
              "5+ years              264\n",
              "Name: professional_experience, dtype: int64"
            ]
          },
          "metadata": {},
          "execution_count": 25
        }
      ]
    },
    {
      "cell_type": "code",
      "source": [
        "df['professional_experience'].hist()"
      ],
      "metadata": {
        "colab": {
          "base_uri": "https://localhost:8080/",
          "height": 447
        },
        "id": "xPs_jBqREtDH",
        "outputId": "a7a75fba-70f6-439f-9104-167244e8486e"
      },
      "execution_count": null,
      "outputs": [
        {
          "output_type": "execute_result",
          "data": {
            "text/plain": [
              "<Axes: >"
            ]
          },
          "metadata": {},
          "execution_count": 29
        },
        {
          "output_type": "display_data",
          "data": {
            "text/plain": [
              "<Figure size 640x480 with 1 Axes>"
            ],
            "image/png": "[encoded data removed]"
          },
          "metadata": {}
        }
      ]
    },
    {
      "cell_type": "code",
      "source": [
        "df['work_authorization_status'].value_counts()"
      ],
      "metadata": {
        "colab": {
          "base_uri": "https://localhost:8080/"
        },
        "id": "_an19uGxE-VO",
        "outputId": "ca244785-9e1f-487b-dfc6-bed98dcb0764"
      },
      "execution_count": null,
      "outputs": [
        {
          "output_type": "execute_result",
          "data": {
            "text/plain": [
              "Citizen           1104\n",
              "F1 Visa/OPT        644\n",
              "Green Card         184\n",
              "F1 Visa/CPT        132\n",
              "Other              112\n",
              "H1B                 48\n",
              "Canada Citizen      24\n",
              "STEM OPT             8\n",
              "Not Authorized       4\n",
              "Name: work_authorization_status, dtype: int64"
            ]
          },
          "metadata": {},
          "execution_count": 28
        }
      ]
    },
    {
      "cell_type": "code",
      "source": [
        "df['work_authorization_status'].hist()"
      ],
      "metadata": {
        "colab": {
          "base_uri": "https://localhost:8080/",
          "height": 447
        },
        "id": "tlLK22GgFXDx",
        "outputId": "ca5e5bc6-5a28-4905-e191-9d9fb775da97"
      },
      "execution_count": null,
      "outputs": [
        {
          "output_type": "execute_result",
          "data": {
            "text/plain": [
              "<Axes: >"
            ]
          },
          "metadata": {},
          "execution_count": 30
        },
        {
          "output_type": "display_data",
          "data": {
            "text/plain": [
              "<Figure size 640x480 with 1 Axes>"
            ],
            "image/png": "[encoded data removed]"
          },
          "metadata": {}
        }
      ]
    },
    {
      "cell_type": "code",
      "source": [
        "df['number_of_interviews'].value_counts()"
      ],
      "metadata": {
        "colab": {
          "base_uri": "https://localhost:8080/"
        },
        "id": "DVBC5GJHFlHz",
        "outputId": "4ebd7f15-f745-4935-b70d-84eb9f3d625a"
      },
      "execution_count": null,
      "outputs": [
        {
          "output_type": "execute_result",
          "data": {
            "text/plain": [
              "0.0     758\n",
              "1.0     522\n",
              "2.0     307\n",
              "3.0     203\n",
              "4.0     193\n",
              "5.0     137\n",
              "6.0      76\n",
              "7.0      60\n",
              "10.0     19\n",
              "20.0     18\n",
              "8.0       6\n",
              "11.0      4\n",
              "18.0      4\n",
              "17.0      4\n",
              "19.0      3\n",
              "14.0      3\n",
              "15.0      2\n",
              "9.0       2\n",
              "16.0      2\n",
              "12.0      2\n",
              "13.0      1\n",
              "Name: number_of_interviews, dtype: int64"
            ]
          },
          "metadata": {},
          "execution_count": 31
        }
      ]
    },
    {
      "cell_type": "code",
      "source": [
        "df['number_of_interviews'].hist()"
      ],
      "metadata": {
        "colab": {
          "base_uri": "https://localhost:8080/",
          "height": 447
        },
        "id": "FfScSBC8FzXr",
        "outputId": "4d906801-5b95-4ed8-b307-36ee10d38038"
      },
      "execution_count": null,
      "outputs": [
        {
          "output_type": "execute_result",
          "data": {
            "text/plain": [
              "<Axes: >"
            ]
          },
          "metadata": {},
          "execution_count": 33
        },
        {
          "output_type": "display_data",
          "data": {
            "text/plain": [
              "<Figure size 640x480 with 1 Axes>"
            ],
            "image/png": "[encoded data removed]"
          },
          "metadata": {}
        }
      ]
    },
    {
      "cell_type": "code",
      "source": [
        "df['number_of_applications'].value_counts()"
      ],
      "metadata": {
        "colab": {
          "base_uri": "https://localhost:8080/"
        },
        "id": "CC9m9qYwGUtP",
        "outputId": "c1bc7db2-4294-4ccc-c92b-e4d45fd350d4"
      },
      "execution_count": null,
      "outputs": [
        {
          "output_type": "execute_result",
          "data": {
            "text/plain": [
              "15      296\n",
              "10      193\n",
              "20      171\n",
              "25      166\n",
              "30      156\n",
              "50      128\n",
              "60      110\n",
              "35      105\n",
              "70       96\n",
              "40       94\n",
              "45       81\n",
              "0        76\n",
              "7        73\n",
              "3        72\n",
              "6        70\n",
              "2        68\n",
              "4        67\n",
              "8        65\n",
              "9        62\n",
              "5        59\n",
              "1        54\n",
              "80       51\n",
              "90       36\n",
              "100      31\n",
              "200      20\n",
              "150      18\n",
              "160      17\n",
              "130      17\n",
              "140      16\n",
              "170      15\n",
              "110      13\n",
              "120      12\n",
              "180      12\n",
              "190      11\n",
              "300       3\n",
              "400       3\n",
              "500       2\n",
              "350       2\n",
              "800       1\n",
              "1000      1\n",
              "900       1\n",
              "Name: number_of_applications, dtype: int64"
            ]
          },
          "metadata": {},
          "execution_count": 35
        }
      ]
    },
    {
      "cell_type": "code",
      "source": [
        "df['gender'].value_counts()"
      ],
      "metadata": {
        "colab": {
          "base_uri": "https://localhost:8080/"
        },
        "id": "q7gP_hDKHH6j",
        "outputId": "e4e787d9-1634-4061-de10-1e70af3b0d45"
      },
      "execution_count": null,
      "outputs": [
        {
          "output_type": "execute_result",
          "data": {
            "text/plain": [
              "Male                        1492\n",
              "Female                       538\n",
              "Decline to Self Identify      16\n",
              "Non-Binary                     6\n",
              "Name: gender, dtype: int64"
            ]
          },
          "metadata": {},
          "execution_count": 36
        }
      ]
    },
    {
      "cell_type": "code",
      "source": [
        "df['gender'].hist()"
      ],
      "metadata": {
        "colab": {
          "base_uri": "https://localhost:8080/",
          "height": 447
        },
        "id": "SD1odDKCHZuv",
        "outputId": "758c244f-f039-427c-b4da-94d537d0bf57"
      },
      "execution_count": null,
      "outputs": [
        {
          "output_type": "execute_result",
          "data": {
            "text/plain": [
              "<Axes: >"
            ]
          },
          "metadata": {},
          "execution_count": 37
        },
        {
          "output_type": "display_data",
          "data": {
            "text/plain": [
              "<Figure size 640x480 with 1 Axes>"
            ],
            "image/png": "[encoded data removed]"
          },
          "metadata": {}
        }
      ]
    },
    {
      "cell_type": "code",
      "source": [
        "df['race'].value_counts()"
      ],
      "metadata": {
        "colab": {
          "base_uri": "https://localhost:8080/"
        },
        "id": "Upne9ydVHiD5",
        "outputId": "014884ef-67c8-4d64-aec1-81dea18e93f1"
      },
      "execution_count": null,
      "outputs": [
        {
          "output_type": "execute_result",
          "data": {
            "text/plain": [
              "East Asian or Asian American                  900\n",
              "Non-Hispanic White or Euro-American           573\n",
              "South Asian or Indian American                537\n",
              "Latino or Hispanic American                   156\n",
              "Black, Afro-Caribbean, or African American    126\n",
              "Two or More Races                              96\n",
              "Decline to Self Identify                       69\n",
              "Middle Eastern or Arab American                66\n",
              "Native American or Alaskan Native               3\n",
              "Name: race, dtype: int64"
            ]
          },
          "metadata": {},
          "execution_count": 38
        }
      ]
    },
    {
      "cell_type": "code",
      "source": [
        "df['race'].hist()"
      ],
      "metadata": {
        "colab": {
          "base_uri": "https://localhost:8080/",
          "height": 447
        },
        "id": "flmDRC8ZHp3b",
        "outputId": "7d503815-efa1-4dde-e9cf-f558c60b364e"
      },
      "execution_count": null,
      "outputs": [
        {
          "output_type": "execute_result",
          "data": {
            "text/plain": [
              "<Axes: >"
            ]
          },
          "metadata": {},
          "execution_count": 39
        },
        {
          "output_type": "display_data",
          "data": {
            "text/plain": [
              "<Figure size 640x480 with 1 Axes>"
            ],
            "image/png": "[encoded data removed]"
          },
          "metadata": {}
        }
      ]
    },
    {
      "cell_type": "code",
      "source": [
        "df.loc[:, 'employment_status '].value_counts()"
      ],
      "metadata": {
        "colab": {
          "base_uri": "https://localhost:8080/"
        },
        "id": "xCY8qpAqRNX8",
        "outputId": "92ce0420-0a0e-4912-c07b-2c39a5d6fc83"
      },
      "execution_count": null,
      "outputs": [
        {
          "output_type": "execute_result",
          "data": {
            "text/plain": [
              "Student               775\n",
              "Unemployed            665\n",
              "Employed Full-Time    435\n",
              "Employed Part-Time    270\n",
              "Contractor            170\n",
              "Name: employment_status , dtype: int64"
            ]
          },
          "metadata": {},
          "execution_count": 46
        }
      ]
    },
    {
      "cell_type": "code",
      "source": [
        "df[ 'employment_status '].hist()"
      ],
      "metadata": {
        "id": "dR46d4umRwdj",
        "outputId": "050a77af-f574-4fa5-8dc2-ff9484111b5b",
        "colab": {
          "base_uri": "https://localhost:8080/",
          "height": 447
        }
      },
      "execution_count": null,
      "outputs": [
        {
          "output_type": "execute_result",
          "data": {
            "text/plain": [
              "<Axes: >"
            ]
          },
          "metadata": {},
          "execution_count": 47
        },
        {
          "output_type": "display_data",
          "data": {
            "text/plain": [
              "<Figure size 640x480 with 1 Axes>"
            ],
            "image/png": "[encoded data removed]"
          },
          "metadata": {}
        }
      ]
    }
  ]
}